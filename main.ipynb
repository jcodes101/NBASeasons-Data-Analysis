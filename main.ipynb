{
 "cells": [
  {
   "cell_type": "markdown",
   "id": "98216718",
   "metadata": {},
   "source": [
    "'###' - section\n",
    "\n",
    "'##' - descriptions\n",
    "\n",
    "'#' - commented out code (can be uncommented)"
   ]
  },
  {
   "cell_type": "code",
   "execution_count": 1026,
   "id": "916964c5",
   "metadata": {},
   "outputs": [],
   "source": [
    "import pandas as pd"
   ]
  },
  {
   "cell_type": "markdown",
   "id": "ab972bc8",
   "metadata": {},
   "source": [
    "loading the all_seasons data"
   ]
  },
  {
   "cell_type": "code",
   "execution_count": null,
   "id": "0063f041",
   "metadata": {},
   "outputs": [],
   "source": [
    "## csv loader\n",
    "df = pd.read_csv('all_seasons.csv')\n",
    "# df\n",
    "# print(df)\n",
    "\n",
    "## txt loader user tab as a delimiter\n",
    "# df = pd.read_csv('all_seasons.txt', delimiter='\\t')"
   ]
  },
  {
   "cell_type": "markdown",
   "id": "2b110403",
   "metadata": {},
   "source": [
    "reading data in pandas"
   ]
  },
  {
   "cell_type": "code",
   "execution_count": 1028,
   "id": "4a56c1ef",
   "metadata": {},
   "outputs": [],
   "source": [
    "### read headers\n",
    "# print(df.columns)\n",
    "\n",
    "## read each column (will get the top 5 rows)\n",
    "# print(df['player_name'][0:5])\n",
    "\n",
    "## prints the first 5 rows of the player_name, season, and team column\n",
    "# print(df[['player_name', 'season', 'team_abbreviation']][0:5])\n",
    "\n",
    "### read each row\n",
    "\n",
    "## prints the first row of the dataframe\n",
    "# print(df.iloc[1])\n",
    "\n",
    "## prints the first 5 (1-4) rows of the dataframe\n",
    "# print(df.iloc[1:5])\n",
    "\n",
    "## this goes through the rows and prints the player name\n",
    "# for index, row in df.iterrows():\n",
    "#     print(index, row['player_name'])\n",
    "\n",
    "## prints the player_name (type) and the player name (value) of the first row\n",
    "# df.loc[df['player_name'] == 'Stephen Curry']\n",
    "\n",
    "### read a specific location (r, c)\n",
    "## row 0, column 1\n",
    "# print(df.iloc[0, 1])"
   ]
  },
  {
   "cell_type": "markdown",
   "id": "2958d969",
   "metadata": {},
   "source": [
    "sorting/describing data"
   ]
  },
  {
   "cell_type": "code",
   "execution_count": 1029,
   "id": "9f947171",
   "metadata": {},
   "outputs": [],
   "source": [
    "## describe() is used to get a mathematical summary of the dataframe\n",
    "# df.describe()\n",
    "\n",
    "\n",
    "# df.sort_values('player_name', ascending=False)\n",
    "\n",
    "## 1 - ascending (A-Z) | 0 - descending (Z-A)\n",
    "# df.sort_values(['player_name', 'team_abbreviation'], ascending=[1,0])\n"
   ]
  },
  {
   "cell_type": "markdown",
   "id": "ba6267b0",
   "metadata": {},
   "source": [
    "making changes to the data"
   ]
  },
  {
   "cell_type": "code",
   "execution_count": 1030,
   "id": "734fcbdb",
   "metadata": {},
   "outputs": [],
   "source": [
    "## creates a new column and assigns new values to it\n",
    "# df['Combined Stats'] = df['pts'] + df['reb'] + df['ast']\n",
    "\n",
    "## get rid of a dupicate column with the same information\n",
    "# df['Total Stats'] = df['pts'] + df['reb'] + df['ast']\n",
    "# df = df.drop(columns=['Total Stats'])\n",
    "\n",
    "## axis allows you to add horizontally (1) or vertically (0)\n",
    "# df['Combined Weight & Height'] = df.iloc[:, 4:6].sum(axis=1)\n",
    "\n",
    "## adjusting the index will move over the column\n",
    "# cols = list(df.columns.values)\n",
    "# df = df[cols[0:6] + [cols[-1]] + cols[6:22]]"
   ]
  },
  {
   "cell_type": "markdown",
   "id": "f2560ed2",
   "metadata": {},
   "source": [
    "saving data (exporting format)"
   ]
  },
  {
   "cell_type": "code",
   "execution_count": 1031,
   "id": "aa19b2ec",
   "metadata": {},
   "outputs": [],
   "source": [
    "### saving types\n",
    "## there is a function called df.to_csv() that allows you to save the dataframe as a csv file\n",
    "# df.to_csv('modified_all_seasons.csv', index=False)\n",
    "\n",
    "# df.to_excel('modified_all_seasons.xlsx', index=False)\n",
    "\n",
    "# df.to_csv('modified_all_seasons.csv', index=False, sep='\\t')"
   ]
  },
  {
   "cell_type": "markdown",
   "id": "15b7a12b",
   "metadata": {},
   "source": [
    "filtering data"
   ]
  },
  {
   "cell_type": "code",
   "execution_count": 1032,
   "id": "d8ca1e17",
   "metadata": {},
   "outputs": [],
   "source": [
    "# df.loc[df['team_abbreviation'] == 'LAL']\n",
    "\n",
    "\n",
    "# using the '|' operator allows you to filter for different values\n",
    "# df.loc[(df['team_abbreviation'] == 'GSW') | (df['team_abbreviation'] == 'LAL')]\n",
    "\n",
    "## can use the .reset_index() function to reset the index of the dataframe\n",
    "## and to reorganize the dataframe\n",
    "# new_df = df.loc[(df['team_abbreviation'] == 'GSW') | (df['team_abbreviation'] == 'LAL') & (df['pts'] > 20)]\n",
    "# new_df.reset_index(drop=True, inplace=True)\n",
    "\n",
    "## use this function to filter out if a certain value is contained\n",
    "## or use the '~' operator to filter out a value [~df...]\n",
    "# df\n",
    "# df.loc[df['player_name'].str.contains('Curry')]\n",
    "\n",
    "## import regular expressions\n",
    "# import re\n",
    "\n",
    "## the (flags=re.I) allows you to ignore the case of the letters\n",
    "# df.loc[df['team_abbreviation'].str.contains('gsw|chi', flags=re.I, regex=True)]\n",
    "\n",
    "## the [a-z]* allows you to filter for any letter that comes after 'le'\n",
    "# df.loc[df['player_name'].str.contains('le[a-z]*', flags=re.I, regex=True)]"
   ]
  },
  {
   "cell_type": "markdown",
   "id": "5d1ab8eb",
   "metadata": {},
   "source": [
    "conditional changes"
   ]
  },
  {
   "cell_type": "code",
   "execution_count": 1033,
   "id": "6a5e7467",
   "metadata": {},
   "outputs": [],
   "source": [
    "## use this logic to replace a value with your own custom in the dataframe\n",
    "# df.loc[df['college'] == 'UCLA', 'college'] = 'UCLA Uni'\n",
    "\n",
    "## use this logic to check if a certain condition is met and then assign a value to it\n",
    "# df['Age Category'] = df['age']\n",
    "# df.loc[df['age'] > 25.0, 'Age Category'] = 'Older'\n",
    "# df"
   ]
  },
  {
   "cell_type": "markdown",
   "id": "0ccfdaca",
   "metadata": {},
   "source": [
    "aggregate statistics (groupby)"
   ]
  },
  {
   "cell_type": "code",
   "execution_count": 1034,
   "id": "20b7964f",
   "metadata": {},
   "outputs": [],
   "source": [
    "## use this logic to aggregate and find the mean of the points, rebounds, and assists\n",
    "# df = pd.read_csv('all_seasons.csv')\n",
    "# df.groupby('team_abbreviation').agg({'pts': 'mean', 'reb': 'mean', 'ast': 'mean'}).reset_index()"
   ]
  },
  {
   "cell_type": "markdown",
   "id": "e21c8a8e",
   "metadata": {},
   "source": [
    "working with large amounts of data (chunksizing)"
   ]
  },
  {
   "cell_type": "code",
   "execution_count": 1035,
   "id": "4577e9c4",
   "metadata": {},
   "outputs": [],
   "source": [
    "## loads each dataframe in chunks of 5 rows at a time\n",
    "# for df in pd.read_csv('all_seasons.csv', chunksize=5):\n",
    "#     print('chunk df')\n",
    "#     print(df)"
   ]
  }
 ],
 "metadata": {
  "kernelspec": {
   "display_name": "Python 3",
   "language": "python",
   "name": "python3"
  },
  "language_info": {
   "codemirror_mode": {
    "name": "ipython",
    "version": 3
   },
   "file_extension": ".py",
   "mimetype": "text/x-python",
   "name": "python",
   "nbconvert_exporter": "python",
   "pygments_lexer": "ipython3",
   "version": "3.13.1"
  }
 },
 "nbformat": 4,
 "nbformat_minor": 5
}
